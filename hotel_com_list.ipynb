{
 "cells": [
  {
   "cell_type": "code",
   "execution_count": 5,
   "metadata": {
    "collapsed": false
   },
   "outputs": [],
   "source": [
    "import time\n",
    "import json\n",
    "import requests as r\n",
    "from bs4 import BeautifulSoup\n",
    "from selenium import webdriver\n",
    "from selenium.webdriver.common.by import By\n",
    "from selenium.webdriver.support.ui import WebDriverWait\n",
    "from selenium.webdriver.support import expected_conditions as EC\n",
    "from Queue import Queue\n",
    "from threading import Thread\n",
    "\n",
    "\n",
    "hotels_com_list=[]\n",
    "with open('hotels3.json','r') as f:\n",
    "    hotels_url=json.load(f)\n",
    "area_queue = Queue()\n",
    "for area in hotels_url:\n",
    "    area_queue.put(area['url'])\n",
    "def worker():\n",
    "    while not area_queue.empty():\n",
    "        crawler() \n",
    "\n",
    "def crawler():\n",
    "    for myd_url in hotels_url:\n",
    "        hotels_com={}\n",
    "        URL= area_queue.get()\n",
    "        driver = webdriver.Remote(\"http://localhost:9515\", webdriver.DesiredCapabilities.CHROME)\n",
    "        \n",
    "        try:\n",
    "            driver.get(URL)\n",
    "            time.sleep(1)\n",
    "            driver.maximize_window()\n",
    "            soup=BeautifulSoup(driver.page_source,'lxml')\n",
    "            URL1='https://tw.hotels.com'+soup.select('.total-reviews')[0]['href']\n",
    "            hotels_com['hotel']=soup.select('h1')[0].text\n",
    "            hotels_com['price']=soup.select('.featured-price')[0].text\n",
    "            #print hotels_com['price']            \n",
    "            hotels_com['address']=soup.select('.postal-addr')[0].text\n",
    "            res=r.get(URL1)\n",
    "            soup2=BeautifulSoup(res.text , 'lxml')\n",
    "            hotels_com['level']=soup2.select('.rating')[0].text\n",
    "\n",
    "            l=len(soup2.select('.review-card-meta-reviewer'))-1\n",
    "            hotels_com['comment']=[]\n",
    "            for i in range(0 ,l): \n",
    "                hotels={'name':soup2.select('.review-card-meta-reviewer')[i].text, 'comm':soup2.select('.expandable-content')[i].text}   \n",
    "                hotels_com['comment'].append(hotels)\n",
    "            hotels_com_list.append(hotels_com)\n",
    "            #print hotels_com_list\n",
    "            print hotels_com['level']\n",
    "            if area_queue.empty():\n",
    "                driver.close()\n",
    "            else:\n",
    "                driver.close()\n",
    "                print \"~~~~~~~~~~~~~~~~~~~~~~~~~~~~~~~~~~~~~~~~\"\n",
    "                worker()\n",
    "        except:\n",
    "            driver.close()\n",
    "            worker()\n",
    "        \n",
    "               \n",
    "\n",
    "threads = map(lambda i: Thread(target=worker), xrange(4))\n",
    "map(lambda th: th.start(), threads)\n",
    "map(lambda th: th.join(), threads)\n",
    "hotels1 = json.dumps(hotels_com_list, ensure_ascii=False) # This is a unicode string\n",
    "with open('hotels_com1.json', 'w') as f1:\n",
    "    f1.write(hotels1.encode('utf-8'))\n",
    "\n"
   ]
  },
  {
   "cell_type": "code",
   "execution_count": null,
   "metadata": {
    "collapsed": false
   },
   "outputs": [],
   "source": [
    "with open('hotels_com1.json','r') as f:\n",
    "    hotels5=json.load(f)\n",
    "len(hotels5)"
   ]
  },
  {
   "cell_type": "code",
   "execution_count": null,
   "metadata": {
    "collapsed": false
   },
   "outputs": [],
   "source": [
    "import json\n",
    "hotels1 = json.dumps(hotels_com_list, ensure_ascii=False) # This is a unicode string\n",
    "with open('hotels_com4.json', 'w') as f:\n",
    "    f.write(hotels1.encode('utf-8'))"
   ]
  },
  {
   "cell_type": "code",
   "execution_count": null,
   "metadata": {
    "collapsed": false
   },
   "outputs": [],
   "source": [
    "with open('hotels_com4.json','r') as f:\n",
    "    hotels5=json.load(f)\n",
    "len(hotels5)"
   ]
  }
 ],
 "metadata": {
  "anaconda-cloud": {},
  "kernelspec": {
   "display_name": "Python 2",
   "language": "python",
   "name": "python2"
  },
  "language_info": {
   "codemirror_mode": {
    "name": "ipython",
    "version": 2
   },
   "file_extension": ".py",
   "mimetype": "text/x-python",
   "name": "python",
   "nbconvert_exporter": "python",
   "pygments_lexer": "ipython2",
   "version": "2.7.13"
  }
 },
 "nbformat": 4,
 "nbformat_minor": 1
}
